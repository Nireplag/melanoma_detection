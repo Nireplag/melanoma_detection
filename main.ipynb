{
 "cells": [
  {
   "cell_type": "markdown",
   "metadata": {},
   "source": [
    "# Melanoma detection using tranfer learning and image augmentation \n",
    "\n",
    "### Inside this project we will use the feature detection of a VGG16 Neural network trained into the IMAGENET dataset and image augmentaion process to increase the number of cases to be used for treining and testing \n",
    "\n",
    "> https://www.kaggle.com/amyjang/tensorflow-transfer-learning-melanoma"
   ]
  },
  {
   "cell_type": "code",
   "execution_count": 9,
   "metadata": {},
   "outputs": [],
   "source": [
    "# Import modules that will be used into the project \n",
    "\n",
    "import tensorflow as tf\n",
    "import os\n",
    "import zipfile\n",
    "import random\n",
    "from shutil import copyfile\n",
    "from skimage import io\n",
    "from skimage.util import random_noise\n",
    "import numpy as np\n",
    "\n"
   ]
  },
  {
   "cell_type": "code",
   "execution_count": 3,
   "metadata": {},
   "outputs": [],
   "source": [
    "# define function to create working director for data\n",
    "\n",
    "def create_directory(source:str, object_list:list):\n",
    "    \"\"\"Check if the directory desired already exist into the provided path and create it otherwise\"\"\"\n",
    "    for obj in object_list:\n",
    "        created_path = os.path.join(source, obj)\n",
    "        if os.path.exists(created_path):\n",
    "            print(\"Directory path \"+ str(created_path)+ \" already exist\")\n",
    "        else: \n",
    "            os.mkdir(created_path)\n",
    "            print(\"Directory \" + str(created_path) + \" created \")\n",
    "\n",
    "\n",
    "# define function to validate if image is not corrupted and split data into test and training sets\n",
    "\n",
    "def split_data(source:str, training:str, testing:str, split_size:float):\n",
    "    \"\"\"\n",
    "    Function to validate if data is not corrupted and \n",
    "    split it into training and test sets. \n",
    "    \"\"\"\n",
    "    data_list = os.listdir(source)\n",
    "    train_list = random.sample(data_list, int(len(data_list) * split_size))\n",
    "    for pic in data_list:\n",
    "        pic_path = os.path.join(source,pic)\n",
    "        if os.path.getsize(pic_path) > 0: # file not empty/corrupted\n",
    "             if pic in train_list:\n",
    "                 training_path = os.path.join(training,pic)\n",
    "                 copyfile(pic_path,training_path)\n",
    "                 training_path = '' # clear path\n",
    "             else:\n",
    "                 testing_path = os.path.join(testing, pic)\n",
    "                 copyfile(pic_path, testing_path)\n",
    "                 testing_path = '' # clear path\n",
    "        pic_path = '' # clear path\n",
    "    print(\"Dataset cleanse and sorting completed\")\n",
    "\n",
    "\n",
    "# define function to make data augmentaion and save files into directory with specific tag and ID\n",
    "\n",
    "def img_augment(source:str, methods:list = [\"flipud\", \"fliplr\", \"noise\"], tag:str = \"aug\"):\n",
    "    \"\"\"\n",
    "    Function will use skimage and Numpy package to generate new images based of prebuilt functions\n",
    "    to increase volumn of data. \n",
    "    methods: functions from skimage to be used [\"flipud\", \"fliplr\", \"noise\"]\n",
    "    tag: added string to the end of original image\n",
    "    \"\"\"\n",
    "    counter = 0 # init a counter to add to end of each image\n",
    "    data_list = os.listdir(source)\n",
    "    for pic in data_list:\n",
    "        pic_path = os.path.join(source,pic)\n",
    "        img = io.imread(pic_path)\n",
    "        if \"flipud\" in methods:\n",
    "            aug = np.flipud(img)\n",
    "            counter = counter + 1\n",
    "            img_name = str(tag) + \"_\" + str(counter) + \"_\" + str(pic) \n",
    "            io.imsave(os.path.join(source, img_name), aug)\n",
    "            aug = []\n",
    "            img_name = '' # clear string \n",
    "        if \"fliplr\" in methods:\n",
    "            aug = np.fliplr(img)\n",
    "            counter = counter + 1\n",
    "            img_name = str(tag) + \"_\" + str(counter) + \"_\" + str(pic) \n",
    "            io.imsave(os.path.join(source, img_name), aug)\n",
    "            aug = []\n",
    "            img_name = '' # clear string\n",
    "        if \"noise\" in methods:\n",
    "            aug = random_noise(img)\n",
    "            counter = counter + 1\n",
    "            img_name = str(tag) + \"_\" + str(counter) + \"_\" + str(pic) \n",
    "            io.imsave(os.path.join(source, img_name), aug)\n",
    "            aug = []\n",
    "            img_name = '' # clear string \n",
    "        pic_path = '' # clear path\n",
    "        img = []\n",
    "    print(f\"Data Augmentation completed for folder {source}\")\n",
    "        \n",
    "        "
   ]
  },
  {
   "cell_type": "code",
   "execution_count": 4,
   "metadata": {},
   "outputs": [],
   "source": [
    "# define source zip, folders to be used and build directories\n",
    " \n",
    "local_zip = \"./Base.zip\" # path where your zip images are located (global or related to this file)\n",
    "zip_ref = zipfile.ZipFile(local_zip, 'r') # configure as read\n",
    "zip_ref.extractall('/tmp') # extract information to temporary \n",
    "zip_ref.close()"
   ]
  },
  {
   "cell_type": "code",
   "execution_count": 4,
   "metadata": {},
   "outputs": [
    {
     "name": "stdout",
     "output_type": "stream",
     "text": [
      "Directory ./train created \n",
      "Directory ./test created \n",
      "Directory ./train/Positive created \n",
      "Directory ./train/Negative created \n",
      "Directory ./test/Positive created \n",
      "Directory ./test/Negative created \n"
     ]
    }
   ],
   "source": [
    "# create working directories\n",
    "create_directory(\"./\", [\"train\", \"test\"]) #folders for test and train data\n",
    "create_directory(\"./train\", [\"Positive\",\"Negative\"]) # folders for positive and negative scenarios inside train\n",
    "create_directory(\"./test\", [\"Positive\",\"Negative\"]) #folders for positive and negative scenarios inside test"
   ]
  },
  {
   "cell_type": "code",
   "execution_count": 7,
   "metadata": {},
   "outputs": [
    {
     "name": "stdout",
     "output_type": "stream",
     "text": [
      "Dataset cleanse and sorting completed\n",
      "Dataset cleanse and sorting completed\n"
     ]
    }
   ],
   "source": [
    "# split data between test and train structures\n",
    "\n",
    "split_data(\"/tmp/Base/Positivos\", \"./train/Positive\", \"./test/Positive\", 0.8) # split for positive images\n",
    "split_data(\"/tmp/Base/Negativos\", \"./train/Negative\", \"./test/Negative\", 0.8) # split for negative images"
   ]
  },
  {
   "cell_type": "code",
   "execution_count": 8,
   "metadata": {},
   "outputs": [
    {
     "name": "stderr",
     "output_type": "stream",
     "text": [
      "Lossy conversion from float64 to uint8. Range [0, 1]. Convert image to uint8 prior to saving to suppress this warning.\n",
      "Lossy conversion from float64 to uint8. Range [0, 1]. Convert image to uint8 prior to saving to suppress this warning.\n",
      "Lossy conversion from float64 to uint8. Range [0, 1]. Convert image to uint8 prior to saving to suppress this warning.\n",
      "Lossy conversion from float64 to uint8. Range [0, 1]. Convert image to uint8 prior to saving to suppress this warning.\n",
      "Lossy conversion from float64 to uint8. Range [0, 1]. Convert image to uint8 prior to saving to suppress this warning.\n",
      "Lossy conversion from float64 to uint8. Range [0, 1]. Convert image to uint8 prior to saving to suppress this warning.\n",
      "Lossy conversion from float64 to uint8. Range [0, 1]. Convert image to uint8 prior to saving to suppress this warning.\n",
      "Lossy conversion from float64 to uint8. Range [0, 1]. Convert image to uint8 prior to saving to suppress this warning.\n",
      "Lossy conversion from float64 to uint8. Range [0, 1]. Convert image to uint8 prior to saving to suppress this warning.\n",
      "Lossy conversion from float64 to uint8. Range [0, 1]. Convert image to uint8 prior to saving to suppress this warning.\n",
      "Lossy conversion from float64 to uint8. Range [0, 1]. Convert image to uint8 prior to saving to suppress this warning.\n",
      "Lossy conversion from float64 to uint8. Range [0, 1]. Convert image to uint8 prior to saving to suppress this warning.\n",
      "Lossy conversion from float64 to uint8. Range [0, 1]. Convert image to uint8 prior to saving to suppress this warning.\n",
      "Lossy conversion from float64 to uint8. Range [0, 1]. Convert image to uint8 prior to saving to suppress this warning.\n",
      "Lossy conversion from float64 to uint8. Range [0, 1]. Convert image to uint8 prior to saving to suppress this warning.\n",
      "Lossy conversion from float64 to uint8. Range [0, 1]. Convert image to uint8 prior to saving to suppress this warning.\n",
      "Lossy conversion from float64 to uint8. Range [0, 1]. Convert image to uint8 prior to saving to suppress this warning.\n",
      "Lossy conversion from float64 to uint8. Range [0, 1]. Convert image to uint8 prior to saving to suppress this warning.\n",
      "Lossy conversion from float64 to uint8. Range [0, 1]. Convert image to uint8 prior to saving to suppress this warning.\n"
     ]
    },
    {
     "name": "stdout",
     "output_type": "stream",
     "text": [
      "Data Augmentation completed for folder ./train/Positive\n"
     ]
    },
    {
     "name": "stderr",
     "output_type": "stream",
     "text": [
      "Lossy conversion from float64 to uint8. Range [0, 1]. Convert image to uint8 prior to saving to suppress this warning.\n",
      "Lossy conversion from float64 to uint8. Range [0, 1]. Convert image to uint8 prior to saving to suppress this warning.\n",
      "Lossy conversion from float64 to uint8. Range [0, 1]. Convert image to uint8 prior to saving to suppress this warning.\n",
      "Lossy conversion from float64 to uint8. Range [0, 1]. Convert image to uint8 prior to saving to suppress this warning.\n",
      "Lossy conversion from float64 to uint8. Range [0, 1]. Convert image to uint8 prior to saving to suppress this warning.\n",
      "Lossy conversion from float64 to uint8. Range [0, 1]. Convert image to uint8 prior to saving to suppress this warning.\n",
      "Lossy conversion from float64 to uint8. Range [0, 1]. Convert image to uint8 prior to saving to suppress this warning.\n",
      "Lossy conversion from float64 to uint8. Range [0, 1]. Convert image to uint8 prior to saving to suppress this warning.\n",
      "Lossy conversion from float64 to uint8. Range [0, 1]. Convert image to uint8 prior to saving to suppress this warning.\n",
      "Lossy conversion from float64 to uint8. Range [0, 1]. Convert image to uint8 prior to saving to suppress this warning.\n",
      "Lossy conversion from float64 to uint8. Range [0, 1]. Convert image to uint8 prior to saving to suppress this warning.\n",
      "Lossy conversion from float64 to uint8. Range [0, 1]. Convert image to uint8 prior to saving to suppress this warning.\n",
      "Lossy conversion from float64 to uint8. Range [0, 1]. Convert image to uint8 prior to saving to suppress this warning.\n",
      "Lossy conversion from float64 to uint8. Range [0, 1]. Convert image to uint8 prior to saving to suppress this warning.\n",
      "Lossy conversion from float64 to uint8. Range [0, 1]. Convert image to uint8 prior to saving to suppress this warning.\n",
      "Lossy conversion from float64 to uint8. Range [0, 1]. Convert image to uint8 prior to saving to suppress this warning.\n",
      "Lossy conversion from float64 to uint8. Range [0, 1]. Convert image to uint8 prior to saving to suppress this warning.\n",
      "Lossy conversion from float64 to uint8. Range [0, 1]. Convert image to uint8 prior to saving to suppress this warning.\n",
      "Lossy conversion from float64 to uint8. Range [0, 1]. Convert image to uint8 prior to saving to suppress this warning.\n",
      "Lossy conversion from float64 to uint8. Range [0, 1]. Convert image to uint8 prior to saving to suppress this warning.\n",
      "Lossy conversion from float64 to uint8. Range [0, 1]. Convert image to uint8 prior to saving to suppress this warning.\n",
      "Lossy conversion from float64 to uint8. Range [0, 1]. Convert image to uint8 prior to saving to suppress this warning.\n",
      "Lossy conversion from float64 to uint8. Range [0, 1]. Convert image to uint8 prior to saving to suppress this warning.\n",
      "Lossy conversion from float64 to uint8. Range [0, 1]. Convert image to uint8 prior to saving to suppress this warning.\n",
      "Lossy conversion from float64 to uint8. Range [0, 1]. Convert image to uint8 prior to saving to suppress this warning.\n",
      "Lossy conversion from float64 to uint8. Range [0, 1]. Convert image to uint8 prior to saving to suppress this warning.\n",
      "Lossy conversion from float64 to uint8. Range [0, 1]. Convert image to uint8 prior to saving to suppress this warning.\n",
      "Lossy conversion from float64 to uint8. Range [0, 1]. Convert image to uint8 prior to saving to suppress this warning.\n",
      "Lossy conversion from float64 to uint8. Range [0, 1]. Convert image to uint8 prior to saving to suppress this warning.\n",
      "Lossy conversion from float64 to uint8. Range [0, 1]. Convert image to uint8 prior to saving to suppress this warning.\n",
      "Lossy conversion from float64 to uint8. Range [0, 1]. Convert image to uint8 prior to saving to suppress this warning.\n",
      "Lossy conversion from float64 to uint8. Range [0, 1]. Convert image to uint8 prior to saving to suppress this warning.\n",
      "Lossy conversion from float64 to uint8. Range [0, 1]. Convert image to uint8 prior to saving to suppress this warning.\n",
      "Lossy conversion from float64 to uint8. Range [0, 1]. Convert image to uint8 prior to saving to suppress this warning.\n",
      "Lossy conversion from float64 to uint8. Range [0, 1]. Convert image to uint8 prior to saving to suppress this warning.\n"
     ]
    },
    {
     "name": "stdout",
     "output_type": "stream",
     "text": [
      "Data Augmentation completed for folder ./train/Negative\n"
     ]
    },
    {
     "name": "stderr",
     "output_type": "stream",
     "text": [
      "Lossy conversion from float64 to uint8. Range [0, 1]. Convert image to uint8 prior to saving to suppress this warning.\n",
      "Lossy conversion from float64 to uint8. Range [0, 1]. Convert image to uint8 prior to saving to suppress this warning.\n",
      "Lossy conversion from float64 to uint8. Range [0, 1]. Convert image to uint8 prior to saving to suppress this warning.\n",
      "Lossy conversion from float64 to uint8. Range [0, 1]. Convert image to uint8 prior to saving to suppress this warning.\n",
      "Lossy conversion from float64 to uint8. Range [0, 1]. Convert image to uint8 prior to saving to suppress this warning.\n"
     ]
    },
    {
     "name": "stdout",
     "output_type": "stream",
     "text": [
      "Data Augmentation completed for folder ./test/Positive\n"
     ]
    },
    {
     "name": "stderr",
     "output_type": "stream",
     "text": [
      "Lossy conversion from float64 to uint8. Range [0, 1]. Convert image to uint8 prior to saving to suppress this warning.\n",
      "Lossy conversion from float64 to uint8. Range [0, 1]. Convert image to uint8 prior to saving to suppress this warning.\n",
      "Lossy conversion from float64 to uint8. Range [0, 1]. Convert image to uint8 prior to saving to suppress this warning.\n",
      "Lossy conversion from float64 to uint8. Range [0, 1]. Convert image to uint8 prior to saving to suppress this warning.\n",
      "Lossy conversion from float64 to uint8. Range [0, 1]. Convert image to uint8 prior to saving to suppress this warning.\n",
      "Lossy conversion from float64 to uint8. Range [0, 1]. Convert image to uint8 prior to saving to suppress this warning.\n",
      "Lossy conversion from float64 to uint8. Range [0, 1]. Convert image to uint8 prior to saving to suppress this warning.\n",
      "Lossy conversion from float64 to uint8. Range [0, 1]. Convert image to uint8 prior to saving to suppress this warning.\n",
      "Lossy conversion from float64 to uint8. Range [0, 1]. Convert image to uint8 prior to saving to suppress this warning.\n"
     ]
    },
    {
     "name": "stdout",
     "output_type": "stream",
     "text": [
      "Data Augmentation completed for folder ./test/Negative\n"
     ]
    }
   ],
   "source": [
    "# create aumentation for files\n",
    "img_augment(\"./train/Positive\") # augument train data for positive cases\n",
    "img_augment(\"./train/Negative\") # augument train data for negative cases\n",
    "img_augment(\"./test/Positive\") # augument test data for positive cases\n",
    "img_augment(\"./test/Negative\") # augument test data for negative cases"
   ]
  },
  {
   "cell_type": "code",
   "execution_count": 10,
   "metadata": {},
   "outputs": [
    {
     "name": "stdout",
     "output_type": "stream",
     "text": [
      "Downloading data from https://storage.googleapis.com/tensorflow/keras-applications/vgg16/vgg16_weights_tf_dim_ordering_tf_kernels_notop.h5\n",
      "58892288/58889256 [==============================] - 3s 0us/step\n"
     ]
    }
   ],
   "source": [
    "# load VGG16 model pre-trained with IMAGENET\n",
    "IMAGE_RESIZE = [256, 256]\n",
    "\n",
    "base_model = tf.keras.applications.VGG16(input_shape=(*IMAGE_RESIZE,3),\n",
    "                                                        include_top=False,\n",
    "                                                        weights='imagenet')"
   ]
  },
  {
   "cell_type": "code",
   "execution_count": 15,
   "metadata": {},
   "outputs": [],
   "source": [
    "# define output bias so the imbalance between positive nad negative cases inside training data\n",
    "\n",
    "positive = len(os.listdir(\"./train/Positive\"))\n",
    "negative = len(os.listdir(\"./train/Negative\"))\n",
    "\n",
    "output_bias = np.log([positive/negative]) # define a initial bias to correct the model due sample imbalance\n",
    "\n",
    "# creating weights for the classes - 0:Negative, 1:Positive -> tensorflow will autogenerate and encode labels using  \n",
    "# alphabetical order. \n",
    "\n",
    "train_size = negative + positive\n",
    "weight_0 = (1.0/negative)*(train_size)/2.0\n",
    "weight_1 = (1.0/positive)*(train_size)/2.0\n",
    "\n",
    "weights = {0:weight_0, 1:weight_1} # dictionary to be added into model compilation\n",
    "\n",
    "# Is recommended to make this computation after augmentation since the simetry of methods between positive and negative can not\n",
    "# be garanteed \n",
    "\n"
   ]
  },
  {
   "cell_type": "code",
   "execution_count": 16,
   "metadata": {},
   "outputs": [],
   "source": [
    "# add output layers to the model and bias\n",
    "\n",
    "model = tf.keras.models.Sequential([\n",
    "    base_model,\n",
    "    tf.keras.layers.Flatten(),\n",
    "    tf.keras.layers.Dense(512, activation='relu'),\n",
    "    tf.keras.layers.Dense(1,activation='sigmoid',\n",
    "     bias_initializer = tf.keras.initializers.Constant(output_bias)\n",
    "     )\n",
    "])"
   ]
  }
 ],
 "metadata": {
  "interpreter": {
   "hash": "e81a6b18c44c9783d940c25134ccc1dd9409bbb831afc04c6a2fd47715ab4d7e"
  },
  "kernelspec": {
   "display_name": "Python 3.8.5 64-bit ('base': conda)",
   "language": "python",
   "name": "python3"
  },
  "language_info": {
   "codemirror_mode": {
    "name": "ipython",
    "version": 3
   },
   "file_extension": ".py",
   "mimetype": "text/x-python",
   "name": "python",
   "nbconvert_exporter": "python",
   "pygments_lexer": "ipython3",
   "version": "3.8.5"
  },
  "orig_nbformat": 4
 },
 "nbformat": 4,
 "nbformat_minor": 2
}
