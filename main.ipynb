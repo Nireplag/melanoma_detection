{
 "cells": [
  {
   "cell_type": "markdown",
   "metadata": {},
   "source": [
    "# Melanoma detection using tranfer learning and image augmentation \n",
    "\n",
    "### Inside this project we will use the feature detection of a VGG16 Neural network trained into the IMAGENET dataset and image augmentaion process to increase the number of cases to be used for treining and testing "
   ]
  },
  {
   "cell_type": "code",
   "execution_count": null,
   "metadata": {},
   "outputs": [],
   "source": [
    "# Import modules that will be used into the project \n",
    "\n",
    "import tensorflow as tf\n",
    "import os\n",
    "import zipfile\n",
    "import random\n"
   ]
  },
  {
   "cell_type": "code",
   "execution_count": null,
   "metadata": {},
   "outputs": [],
   "source": [
    "# define function to create working director for data\n",
    "\n",
    "def create_directory(source->string, object_list->list):\n",
    "    \"\"\"Check if the directory desired already exist into the provided path and create it otherwise\"\"\"\n",
    "    for obj in object_list:\n",
    "        created_path = os.path.join(source, obj)\n",
    "        if os.path.exists(created_path):\n",
    "            print(\"Directory path \"+ str(created_path)+ \" already exist\")\n",
    "        else: \n",
    "            os.mkdir(created_path)\n",
    "            print(\"Directory \" + str(created_path) + \" created \")\n",
    "\n",
    "\n",
    "# define function to validate if image is not corrupted and split data into test and training sets"
   ]
  }
 ],
 "metadata": {
  "language_info": {
   "name": "python"
  },
  "orig_nbformat": 4
 },
 "nbformat": 4,
 "nbformat_minor": 2
}
