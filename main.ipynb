{
 "cells": [
  {
   "cell_type": "markdown",
   "metadata": {},
   "source": [
    "# Melanoma detection using tranfer learning and image augmentation \n",
    "\n",
    "### Inside this project we will use the feature detection of a VGG16 Neural network trained into the IMAGENET dataset and image augmentaion process to increase the number of cases to be used for treining and testing \n",
    "\n",
    "> https://www.kaggle.com/amyjang/tensorflow-transfer-learning-melanoma"
   ]
  },
  {
   "cell_type": "code",
   "execution_count": 2,
   "metadata": {},
   "outputs": [],
   "source": [
    "# Import modules that will be used into the project \n",
    "\n",
    "import tensorflow as tf\n",
    "import os\n",
    "import zipfile\n",
    "import random\n",
    "from shutil import copyfile\n",
    "from skimage import io\n",
    "from skimage.util import random_noise\n",
    "from skimage.transform import resize\n",
    "from skimage.filters import threshold_otsu\n",
    "from skimage.color import rgb2gray\n",
    "import numpy as np\n",
    "\n"
   ]
  },
  {
   "cell_type": "code",
   "execution_count": 10,
   "metadata": {},
   "outputs": [],
   "source": [
    "# define function to create working director for data\n",
    "\n",
    "def create_directory(source:str, object_list:list):\n",
    "    \"\"\"Check if the directory desired already exist into the provided path and create it otherwise\"\"\"\n",
    "    for obj in object_list:\n",
    "        created_path = os.path.join(source, obj)\n",
    "        if os.path.exists(created_path):\n",
    "            print(\"Directory path \"+ str(created_path)+ \" already exist\")\n",
    "        else: \n",
    "            os.mkdir(created_path)\n",
    "            print(\"Directory \" + str(created_path) + \" created \")\n",
    "\n",
    "\n",
    "# define function to extract only the interest area of image\n",
    "\n",
    "def get_spot(source:str, pic:str, destination:str):\n",
    "    \"\"\"This function will take a path to image and extract the area of interest, creating a new one, \n",
    "    with only the area of desired information.\n",
    "    input:\n",
    "     - source: string of folder where images are located\n",
    "     - pic: string with name of image to be processed\n",
    "     - destination: string with location to where to save processed image\n",
    "    result: \n",
    "     - image with same name to the original one\"\"\" \n",
    "\n",
    "    \n",
    "    image = io.imread(os.path.join(source,pic))\n",
    "    img_gray = rgb2gray(image)\n",
    "    thresh = threshold_otsu(img_gray)\n",
    "    mask = img_gray < thresh\n",
    "    for i in range(3):\n",
    "        image[:,:,i] = image[:,:,i] * mask\n",
    "    io.imshow(image)\n",
    "    io.imsave(os.path.join(destination, pic), image)\n",
    "\n",
    "\n",
    "\n",
    "# define function to validate if image is not corrupted and split data into test and training sets\n",
    "\n",
    "def split_data(source:str, training:str, testing:str, split_size:float):\n",
    "    \"\"\"\n",
    "    Function to validate if data is not corrupted and \n",
    "    split it into training and test sets. \n",
    "    \"\"\"\n",
    "    data_list = os.listdir(source)\n",
    "    random.seed(10)\n",
    "    train_list = random.sample(data_list, int(len(data_list) * split_size), )\n",
    "    for pic in data_list:\n",
    "        pic_path = os.path.join(source,pic)\n",
    "        if os.path.getsize(pic_path) > 0: # file not empty/corrupted\n",
    "             if pic in train_list:\n",
    "                 #training_path = os.path.join(training,pic)\n",
    "                 #copyfile(pic_path,training_path)\n",
    "                 #training_path = '' # clear path\n",
    "                 get_spot(source,pic,training)\n",
    "             else:\n",
    "                 #testing_path = os.path.join(testing, pic)\n",
    "                 #copyfile(pic_path, testing_path)\n",
    "                 #testing_path = '' # clear path\n",
    "                 get_spot(source,pic,testing)\n",
    "        pic_path = '' # clear path\n",
    "    print(\"Dataset cleanse and sorting completed\")\n",
    "\n",
    "\n",
    "# define function to make data augmentaion and save files into directory with specific tag and ID\n",
    "\n",
    "def img_augment(source:str, methods:list = [\"flipud\", \"fliplr\", \"noise\"], tag:str = \"aug\"):\n",
    "    \"\"\"\n",
    "    Function will use skimage and Numpy package to generate new images based of prebuilt functions\n",
    "    to increase volumn of data. \n",
    "    methods: functions from skimage to be used [\"flipud\", \"fliplr\", \"noise\"]\n",
    "    tag: added string to the end of original image\n",
    "    \"\"\"\n",
    "    counter = 0 # init a counter to add to end of each image\n",
    "    data_list = os.listdir(source)\n",
    "    for pic in data_list:\n",
    "        pic_path = os.path.join(source,pic)\n",
    "        img = io.imread(pic_path)\n",
    "        if \"flipud\" in methods:\n",
    "            aug = np.flipud(img)\n",
    "            counter = counter + 1\n",
    "            img_name = str(tag) + \"_\" + str(counter) + \"_\" + str(pic) \n",
    "            io.imsave(os.path.join(source, img_name), aug)\n",
    "            aug = []\n",
    "            img_name = '' # clear string \n",
    "        if \"fliplr\" in methods:\n",
    "            aug = np.fliplr(img)\n",
    "            counter = counter + 1\n",
    "            img_name = str(tag) + \"_\" + str(counter) + \"_\" + str(pic) \n",
    "            io.imsave(os.path.join(source, img_name), aug)\n",
    "            aug = []\n",
    "            img_name = '' # clear string\n",
    "        if \"noise\" in methods:\n",
    "            aug = random_noise(img)\n",
    "            counter = counter + 1\n",
    "            img_name = str(tag) + \"_\" + str(counter) + \"_\" + str(pic) \n",
    "            io.imsave(os.path.join(source, img_name), aug)\n",
    "            aug = []\n",
    "            img_name = '' # clear string \n",
    "        pic_path = '' # clear path\n",
    "        img = []\n",
    "    print(f\"Data Augmentation completed for folder {source}\")\n",
    "\n",
    "\n",
    "# create function to predict labels using model\n",
    "\n",
    "def pred_model(folder:str, shape:tuple ,model):\n",
    "    prediction = []\n",
    "    image_list = os.listdir(folder)\n",
    "    for image in image_list:\n",
    "        source = os.path.join(folder,image)\n",
    "        img = io.imread(source)\n",
    "        img = resize(img,shape)\n",
    "        img = np.expand_dims(img, axis=0)\n",
    "        #print(f\"Image {image} have the shape {img.shape}\")\n",
    "        prediction.append(model.predict(img))\n",
    "    \n",
    "    return prediction\n",
    "\n",
    "        \n",
    "        "
   ]
  },
  {
   "cell_type": "code",
   "execution_count": 11,
   "metadata": {},
   "outputs": [],
   "source": [
    "# define source zip, folders to be used and build directories\n",
    " \n",
    "local_zip = \"./Base.zip\" # path where your zip images are located (global or related to this file)\n",
    "zip_ref = zipfile.ZipFile(local_zip, 'r') # configure as read\n",
    "zip_ref.extractall('/tmp') # extract information to temporary \n",
    "zip_ref.close()"
   ]
  },
  {
   "cell_type": "code",
   "execution_count": 12,
   "metadata": {},
   "outputs": [
    {
     "name": "stdout",
     "output_type": "stream",
     "text": [
      "Directory ./train created \n",
      "Directory ./test created \n",
      "Directory ./train/Positive created \n",
      "Directory ./train/Negative created \n",
      "Directory ./test/Positive created \n",
      "Directory ./test/Negative created \n"
     ]
    }
   ],
   "source": [
    "# create working directories\n",
    "create_directory(\"./\", [\"train\", \"test\"]) #folders for test and train data\n",
    "create_directory(\"./train\", [\"Positive\",\"Negative\"]) # folders for positive and negative scenarios inside train\n",
    "create_directory(\"./test\", [\"Positive\",\"Negative\"]) #folders for positive and negative scenarios inside test"
   ]
  },
  {
   "cell_type": "code",
   "execution_count": 13,
   "metadata": {},
   "outputs": [
    {
     "name": "stdout",
     "output_type": "stream",
     "text": [
      "Dataset cleanse and sorting completed\n",
      "Dataset cleanse and sorting completed\n"
     ]
    },
    {
     "data": {
      "image/png": "[encoded data removed]",
      "text/plain": [
       "<Figure size 432x288 with 1 Axes>"
      ]
     },
     "metadata": {
      "needs_background": "light"
     },
     "output_type": "display_data"
    }
   ],
   "source": [
    "# split data between test and train structures\n",
    "\n",
    "split_data(\"/tmp/Base/Positivos\", \"./train/Positive\", \"./test/Positive\", 0.8) # split for positive images\n",
    "split_data(\"/tmp/Base/Negativos\", \"./train/Negative\", \"./test/Negative\", 0.8) # split for negative images"
   ]
  },
  {
   "cell_type": "code",
   "execution_count": 14,
   "metadata": {},
   "outputs": [
    {
     "name": "stderr",
     "output_type": "stream",
     "text": [
      "Lossy conversion from float64 to uint8. Range [0, 1]. Convert image to uint8 prior to saving to suppress this warning.\n",
      "Lossy conversion from float64 to uint8. Range [0, 1]. Convert image to uint8 prior to saving to suppress this warning.\n",
      "Lossy conversion from float64 to uint8. Range [0, 1]. Convert image to uint8 prior to saving to suppress this warning.\n",
      "Lossy conversion from float64 to uint8. Range [0, 1]. Convert image to uint8 prior to saving to suppress this warning.\n",
      "Lossy conversion from float64 to uint8. Range [0, 1]. Convert image to uint8 prior to saving to suppress this warning.\n",
      "Lossy conversion from float64 to uint8. Range [0, 1]. Convert image to uint8 prior to saving to suppress this warning.\n",
      "Lossy conversion from float64 to uint8. Range [0, 1]. Convert image to uint8 prior to saving to suppress this warning.\n",
      "Lossy conversion from float64 to uint8. Range [0, 1]. Convert image to uint8 prior to saving to suppress this warning.\n",
      "Lossy conversion from float64 to uint8. Range [0, 1]. Convert image to uint8 prior to saving to suppress this warning.\n",
      "Lossy conversion from float64 to uint8. Range [0, 1]. Convert image to uint8 prior to saving to suppress this warning.\n",
      "Lossy conversion from float64 to uint8. Range [0, 1]. Convert image to uint8 prior to saving to suppress this warning.\n",
      "Lossy conversion from float64 to uint8. Range [0, 1]. Convert image to uint8 prior to saving to suppress this warning.\n",
      "Lossy conversion from float64 to uint8. Range [0, 1]. Convert image to uint8 prior to saving to suppress this warning.\n",
      "Lossy conversion from float64 to uint8. Range [0, 1]. Convert image to uint8 prior to saving to suppress this warning.\n",
      "Lossy conversion from float64 to uint8. Range [0, 1]. Convert image to uint8 prior to saving to suppress this warning.\n",
      "Lossy conversion from float64 to uint8. Range [0, 1]. Convert image to uint8 prior to saving to suppress this warning.\n",
      "Lossy conversion from float64 to uint8. Range [0, 1]. Convert image to uint8 prior to saving to suppress this warning.\n",
      "Lossy conversion from float64 to uint8. Range [0, 1]. Convert image to uint8 prior to saving to suppress this warning.\n",
      "Lossy conversion from float64 to uint8. Range [0, 1]. Convert image to uint8 prior to saving to suppress this warning.\n"
     ]
    },
    {
     "name": "stdout",
     "output_type": "stream",
     "text": [
      "Data Augmentation completed for folder ./train/Positive\n"
     ]
    },
    {
     "name": "stderr",
     "output_type": "stream",
     "text": [
      "Lossy conversion from float64 to uint8. Range [0, 1]. Convert image to uint8 prior to saving to suppress this warning.\n",
      "Lossy conversion from float64 to uint8. Range [0, 1]. Convert image to uint8 prior to saving to suppress this warning.\n",
      "Lossy conversion from float64 to uint8. Range [0, 1]. Convert image to uint8 prior to saving to suppress this warning.\n",
      "Lossy conversion from float64 to uint8. Range [0, 1]. Convert image to uint8 prior to saving to suppress this warning.\n",
      "Lossy conversion from float64 to uint8. Range [0, 1]. Convert image to uint8 prior to saving to suppress this warning.\n",
      "Lossy conversion from float64 to uint8. Range [0, 1]. Convert image to uint8 prior to saving to suppress this warning.\n",
      "Lossy conversion from float64 to uint8. Range [0, 1]. Convert image to uint8 prior to saving to suppress this warning.\n",
      "Lossy conversion from float64 to uint8. Range [0, 1]. Convert image to uint8 prior to saving to suppress this warning.\n",
      "Lossy conversion from float64 to uint8. Range [0, 1]. Convert image to uint8 prior to saving to suppress this warning.\n",
      "Lossy conversion from float64 to uint8. Range [0, 1]. Convert image to uint8 prior to saving to suppress this warning.\n",
      "Lossy conversion from float64 to uint8. Range [0, 1]. Convert image to uint8 prior to saving to suppress this warning.\n",
      "Lossy conversion from float64 to uint8. Range [0, 1]. Convert image to uint8 prior to saving to suppress this warning.\n",
      "Lossy conversion from float64 to uint8. Range [0, 1]. Convert image to uint8 prior to saving to suppress this warning.\n",
      "Lossy conversion from float64 to uint8. Range [0, 1]. Convert image to uint8 prior to saving to suppress this warning.\n",
      "Lossy conversion from float64 to uint8. Range [0, 1]. Convert image to uint8 prior to saving to suppress this warning.\n",
      "Lossy conversion from float64 to uint8. Range [0, 1]. Convert image to uint8 prior to saving to suppress this warning.\n",
      "Lossy conversion from float64 to uint8. Range [0, 1]. Convert image to uint8 prior to saving to suppress this warning.\n",
      "Lossy conversion from float64 to uint8. Range [0, 1]. Convert image to uint8 prior to saving to suppress this warning.\n",
      "Lossy conversion from float64 to uint8. Range [0, 1]. Convert image to uint8 prior to saving to suppress this warning.\n",
      "Lossy conversion from float64 to uint8. Range [0, 1]. Convert image to uint8 prior to saving to suppress this warning.\n",
      "Lossy conversion from float64 to uint8. Range [0, 1]. Convert image to uint8 prior to saving to suppress this warning.\n",
      "Lossy conversion from float64 to uint8. Range [0, 1]. Convert image to uint8 prior to saving to suppress this warning.\n",
      "Lossy conversion from float64 to uint8. Range [0, 1]. Convert image to uint8 prior to saving to suppress this warning.\n",
      "Lossy conversion from float64 to uint8. Range [0, 1]. Convert image to uint8 prior to saving to suppress this warning.\n",
      "Lossy conversion from float64 to uint8. Range [0, 1]. Convert image to uint8 prior to saving to suppress this warning.\n",
      "Lossy conversion from float64 to uint8. Range [0, 1]. Convert image to uint8 prior to saving to suppress this warning.\n",
      "Lossy conversion from float64 to uint8. Range [0, 1]. Convert image to uint8 prior to saving to suppress this warning.\n",
      "Lossy conversion from float64 to uint8. Range [0, 1]. Convert image to uint8 prior to saving to suppress this warning.\n",
      "Lossy conversion from float64 to uint8. Range [0, 1]. Convert image to uint8 prior to saving to suppress this warning.\n",
      "Lossy conversion from float64 to uint8. Range [0, 1]. Convert image to uint8 prior to saving to suppress this warning.\n",
      "Lossy conversion from float64 to uint8. Range [0, 1]. Convert image to uint8 prior to saving to suppress this warning.\n",
      "Lossy conversion from float64 to uint8. Range [0, 1]. Convert image to uint8 prior to saving to suppress this warning.\n",
      "Lossy conversion from float64 to uint8. Range [0, 1]. Convert image to uint8 prior to saving to suppress this warning.\n",
      "Lossy conversion from float64 to uint8. Range [0, 1]. Convert image to uint8 prior to saving to suppress this warning.\n",
      "Lossy conversion from float64 to uint8. Range [0, 1]. Convert image to uint8 prior to saving to suppress this warning.\n",
      "Lossy conversion from float64 to uint8. Range [0, 1]. Convert image to uint8 prior to saving to suppress this warning.\n",
      "Lossy conversion from float64 to uint8. Range [0, 1]. Convert image to uint8 prior to saving to suppress this warning.\n"
     ]
    },
    {
     "name": "stdout",
     "output_type": "stream",
     "text": [
      "Data Augmentation completed for folder ./train/Negative\n"
     ]
    },
    {
     "name": "stderr",
     "output_type": "stream",
     "text": [
      "Lossy conversion from float64 to uint8. Range [0, 1]. Convert image to uint8 prior to saving to suppress this warning.\n",
      "Lossy conversion from float64 to uint8. Range [0, 1]. Convert image to uint8 prior to saving to suppress this warning.\n",
      "Lossy conversion from float64 to uint8. Range [0, 1]. Convert image to uint8 prior to saving to suppress this warning.\n",
      "Lossy conversion from float64 to uint8. Range [0, 1]. Convert image to uint8 prior to saving to suppress this warning.\n",
      "Lossy conversion from float64 to uint8. Range [0, 1]. Convert image to uint8 prior to saving to suppress this warning.\n"
     ]
    },
    {
     "name": "stdout",
     "output_type": "stream",
     "text": [
      "Data Augmentation completed for folder ./test/Positive\n"
     ]
    },
    {
     "name": "stderr",
     "output_type": "stream",
     "text": [
      "Lossy conversion from float64 to uint8. Range [0, 1]. Convert image to uint8 prior to saving to suppress this warning.\n",
      "Lossy conversion from float64 to uint8. Range [0, 1]. Convert image to uint8 prior to saving to suppress this warning.\n",
      "Lossy conversion from float64 to uint8. Range [0, 1]. Convert image to uint8 prior to saving to suppress this warning.\n",
      "Lossy conversion from float64 to uint8. Range [0, 1]. Convert image to uint8 prior to saving to suppress this warning.\n",
      "Lossy conversion from float64 to uint8. Range [0, 1]. Convert image to uint8 prior to saving to suppress this warning.\n",
      "Lossy conversion from float64 to uint8. Range [0, 1]. Convert image to uint8 prior to saving to suppress this warning.\n",
      "Lossy conversion from float64 to uint8. Range [0, 1]. Convert image to uint8 prior to saving to suppress this warning.\n"
     ]
    },
    {
     "name": "stdout",
     "output_type": "stream",
     "text": [
      "Data Augmentation completed for folder ./test/Negative\n"
     ]
    }
   ],
   "source": [
    "# create aumentation for files\n",
    "img_augment(\"./train/Positive\") # augument train data for positive cases\n",
    "img_augment(\"./train/Negative\") # augument train data for negative cases\n",
    "img_augment(\"./test/Positive\") # augument test data for positive cases\n",
    "img_augment(\"./test/Negative\") # augument test data for negative cases"
   ]
  },
  {
   "cell_type": "code",
   "execution_count": 15,
   "metadata": {},
   "outputs": [],
   "source": [
    "# load VGG16 model pre-trained with IMAGENET\n",
    "IMAGE_RESIZE = [256, 256]\n",
    "\n",
    "base_model = tf.keras.applications.VGG16(input_shape=(*IMAGE_RESIZE,3),\n",
    "                                                        include_top=False,\n",
    "                                                        weights='imagenet')"
   ]
  },
  {
   "cell_type": "code",
   "execution_count": 16,
   "metadata": {},
   "outputs": [],
   "source": [
    "# define output bias so the imbalance between positive nad negative cases inside training data\n",
    "\n",
    "positive = len(os.listdir(\"./train/Positive\"))\n",
    "negative = len(os.listdir(\"./train/Negative\"))\n",
    "\n",
    "output_bias = np.log([positive/negative]) # define a initial bias to correct the model due sample imbalance\n",
    "\n",
    "# creating weights for the classes - 0:Negative, 1:Positive -> tensorflow will autogenerate and encode labels using  \n",
    "# alphabetical order. \n",
    "\n",
    "train_size = negative + positive\n",
    "weight_0 = (1.0/negative)*(train_size)/2.0\n",
    "weight_1 = (1.0/positive)*(train_size)/2.0\n",
    "\n",
    "weights = {0:weight_0, 1:weight_1} # dictionary to be added into model compilation\n",
    "\n",
    "# Is recommended to make this computation after augmentation since the simetry of methods between positive and negative can not\n",
    "# be garanteed \n",
    "\n"
   ]
  },
  {
   "cell_type": "code",
   "execution_count": 28,
   "metadata": {},
   "outputs": [],
   "source": [
    "# add output layers to the model and bias\n",
    "\n",
    "model = tf.keras.models.Sequential([\n",
    "    base_model,\n",
    "    tf.keras.layers.Flatten(),\n",
    "    tf.keras.layers.Dense(512, activation='relu'),\n",
    "    tf.keras.layers.Dropout(0.2),                   # added deopout to avoid overfitting\n",
    "    tf.keras.layers.Dense(64, activation='relu'),\n",
    "    tf.keras.layers.Dense(1,activation='sigmoid')\n",
    "])\n",
    "\n",
    "model.compile(\n",
    "    optimizer=tf.keras.optimizers.SGD(), \n",
    "    loss = tf.keras.losses.binary_crossentropy,\n",
    "    metrics=[tf.keras.metrics.FalseNegatives()]\n",
    "    )"
   ]
  },
  {
   "cell_type": "code",
   "execution_count": 18,
   "metadata": {},
   "outputs": [
    {
     "name": "stdout",
     "output_type": "stream",
     "text": [
      "Found 216 images belonging to 2 classes.\n",
      "Found 56 images belonging to 2 classes.\n"
     ]
    }
   ],
   "source": [
    "# create data generators to configure data to train and validate\n",
    "\n",
    "train_datagen = tf.keras.preprocessing.image.ImageDataGenerator(rescale=1./255.) # scale values to be into range 0 to 1\n",
    "test_datagen = tf.keras.preprocessing.image.ImageDataGenerator(rescale=1./255.)\n",
    "\n",
    "train_generator = train_datagen.flow_from_directory(\n",
    "    \"./train\", # directory of training images\n",
    "    target_size=(256,256), # all images will be rezide to 256X256\n",
    "    batch_size=3,\n",
    "    class_mode='binary' # due use of binary_crossvalidation\n",
    "    )\n",
    "\n",
    "test_generator = test_datagen.flow_from_directory(\n",
    "    \"./test\", # directory of training images\n",
    "    target_size=(256,256), # all images will be rezide to 256X256\n",
    "    batch_size=3,\n",
    "    class_mode='binary' # due use of binary_crossvalidation\n",
    "    )\n"
   ]
  },
  {
   "cell_type": "code",
   "execution_count": 29,
   "metadata": {},
   "outputs": [
    {
     "name": "stdout",
     "output_type": "stream",
     "text": [
      "Epoch 1/25\n",
      "10/10 [==============================] - 29s 3s/step - loss: 0.6908 - false_negatives: 3.1818 - val_loss: 0.6850 - val_false_negatives: 2.0000\n",
      "Epoch 2/25\n",
      "10/10 [==============================] - 27s 3s/step - loss: 0.6892 - false_negatives: 5.1818 - val_loss: 0.6906 - val_false_negatives: 4.0000\n",
      "Epoch 3/25\n",
      "10/10 [==============================] - 27s 3s/step - loss: 0.6818 - false_negatives: 5.4545 - val_loss: 0.7049 - val_false_negatives: 6.0000\n",
      "Epoch 4/25\n",
      "10/10 [==============================] - 27s 3s/step - loss: 0.6680 - false_negatives: 3.0909 - val_loss: 0.6585 - val_false_negatives: 1.0000\n",
      "Epoch 5/25\n",
      "10/10 [==============================] - 27s 3s/step - loss: 0.6538 - false_negatives: 2.2727 - val_loss: 0.6751 - val_false_negatives: 3.0000\n",
      "Epoch 6/25\n",
      "10/10 [==============================] - 28s 3s/step - loss: 0.6732 - false_negatives: 5.8182 - val_loss: 0.6880 - val_false_negatives: 4.0000\n",
      "Epoch 7/25\n",
      "10/10 [==============================] - 28s 3s/step - loss: 0.6621 - false_negatives: 5.2727 - val_loss: 0.6553 - val_false_negatives: 2.0000\n",
      "Epoch 8/25\n",
      "10/10 [==============================] - 27s 3s/step - loss: 0.6543 - false_negatives: 4.0000 - val_loss: 0.6323 - val_false_negatives: 1.0000\n",
      "Epoch 9/25\n",
      "10/10 [==============================] - 27s 3s/step - loss: 0.6905 - false_negatives: 7.7273 - val_loss: 0.6873 - val_false_negatives: 4.0000\n",
      "Epoch 10/25\n",
      "10/10 [==============================] - 27s 3s/step - loss: 0.6496 - false_negatives: 5.0909 - val_loss: 0.6261 - val_false_negatives: 1.0000\n",
      "Epoch 11/25\n",
      "10/10 [==============================] - 27s 3s/step - loss: 0.6627 - false_negatives: 5.9091 - val_loss: 0.6437 - val_false_negatives: 2.0000\n",
      "Epoch 12/25\n",
      "10/10 [==============================] - 26s 3s/step - loss: 0.6768 - false_negatives: 6.6364 - val_loss: 0.6870 - val_false_negatives: 4.0000\n",
      "Epoch 13/25\n",
      "10/10 [==============================] - 25s 3s/step - loss: 0.6628 - false_negatives: 6.1818 - val_loss: 0.6638 - val_false_negatives: 3.0000\n",
      "Epoch 14/25\n",
      "10/10 [==============================] - 25s 3s/step - loss: 0.6457 - false_negatives: 5.4545 - val_loss: 0.6870 - val_false_negatives: 4.0000\n",
      "Epoch 15/25\n",
      "10/10 [==============================] - 25s 3s/step - loss: 0.6452 - false_negatives: 4.7273 - val_loss: 0.6606 - val_false_negatives: 3.0000\n",
      "Epoch 16/25\n",
      "10/10 [==============================] - 25s 3s/step - loss: 0.6440 - false_negatives: 5.0000 - val_loss: 0.6871 - val_false_negatives: 4.0000\n",
      "Epoch 17/25\n",
      "10/10 [==============================] - 25s 3s/step - loss: 0.6351 - false_negatives: 4.8182 - val_loss: 0.6571 - val_false_negatives: 3.0000\n",
      "Epoch 18/25\n",
      "10/10 [==============================] - 25s 3s/step - loss: 0.6246 - false_negatives: 3.9091 - val_loss: 0.7203 - val_false_negatives: 5.0000\n",
      "Epoch 19/25\n",
      "10/10 [==============================] - 25s 3s/step - loss: 0.6203 - false_negatives: 4.0000 - val_loss: 0.6878 - val_false_negatives: 4.0000\n",
      "Epoch 20/25\n",
      "10/10 [==============================] - 27s 3s/step - loss: 0.6287 - false_negatives: 4.9091 - val_loss: 0.6532 - val_false_negatives: 3.0000\n",
      "Epoch 21/25\n",
      "10/10 [==============================] - 27s 3s/step - loss: 0.6106 - false_negatives: 4.0909 - val_loss: 0.6519 - val_false_negatives: 3.0000\n",
      "Epoch 22/25\n",
      "10/10 [==============================] - 27s 3s/step - loss: 0.6498 - false_negatives: 4.9091 - val_loss: 0.6501 - val_false_negatives: 3.0000\n",
      "Epoch 23/25\n",
      "10/10 [==============================] - 27s 3s/step - loss: 0.6102 - false_negatives: 3.8182 - val_loss: 0.6896 - val_false_negatives: 4.0000\n",
      "Epoch 24/25\n",
      "10/10 [==============================] - 28s 3s/step - loss: 0.6069 - false_negatives: 4.6364 - val_loss: 0.7329 - val_false_negatives: 5.0000\n",
      "Epoch 25/25\n",
      "10/10 [==============================] - 27s 3s/step - loss: 0.6539 - false_negatives: 6.0000 - val_loss: 0.6467 - val_false_negatives: 3.0000\n"
     ]
    }
   ],
   "source": [
    "history = model.fit(\n",
    "      train_generator,\n",
    "      steps_per_epoch=10,  \n",
    "      epochs=25,\n",
    "      validation_data=test_generator,\n",
    "      validation_steps=3\n",
    "      )\n",
    "\n",
    "model.save(\"melanoma.h5\")"
   ]
  },
  {
   "cell_type": "code",
   "execution_count": 30,
   "metadata": {},
   "outputs": [],
   "source": [
    "# model = tf.keras.models.load_model(\"melanoma.h5\")\n",
    "pred_neg = pred_model(\"./test/Negative\", (256,256), model)\n",
    "pred_pos = pred_model(\"./test/Positive\", (256,256), model) "
   ]
  },
  {
   "cell_type": "code",
   "execution_count": 35,
   "metadata": {},
   "outputs": [
    {
     "name": "stdout",
     "output_type": "stream",
     "text": [
      "[array([[0.40246728]], dtype=float32), array([[0.40246728]], dtype=float32), array([[0.40246728]], dtype=float32), array([[0.40246728]], dtype=float32), array([[0.40246728]], dtype=float32), array([[0.40246728]], dtype=float32), array([[0.40246728]], dtype=float32), array([[0.40246728]], dtype=float32), array([[0.40246728]], dtype=float32), array([[0.40246728]], dtype=float32), array([[0.40246728]], dtype=float32), array([[0.40246728]], dtype=float32), array([[0.40246728]], dtype=float32), array([[0.40246728]], dtype=float32), array([[0.40246728]], dtype=float32), array([[0.40246728]], dtype=float32), array([[0.40246728]], dtype=float32), array([[0.40246728]], dtype=float32), array([[0.40246728]], dtype=float32), array([[0.40246728]], dtype=float32), array([[0.40246728]], dtype=float32), array([[0.40246728]], dtype=float32), array([[0.40246728]], dtype=float32), array([[0.40246728]], dtype=float32), array([[0.40246728]], dtype=float32), array([[0.40246728]], dtype=float32), array([[0.40246728]], dtype=float32), array([[0.40246728]], dtype=float32), array([[0.40246728]], dtype=float32), array([[0.40246728]], dtype=float32), array([[0.40246728]], dtype=float32), array([[0.40246728]], dtype=float32), array([[0.40246728]], dtype=float32), array([[0.40246728]], dtype=float32), array([[0.40246728]], dtype=float32), array([[0.40246728]], dtype=float32)]\n"
     ]
    }
   ],
   "source": [
    "benign = np.array(pred_neg) < 0.5\n",
    "melanoma = np.array(pred_pos) > 0.5\n",
    "\n",
    "print(pred_neg)"
   ]
  }
 ],
 "metadata": {
  "interpreter": {
   "hash": "e81a6b18c44c9783d940c25134ccc1dd9409bbb831afc04c6a2fd47715ab4d7e"
  },
  "kernelspec": {
   "display_name": "Python 3.8.5 64-bit ('base': conda)",
   "language": "python",
   "name": "python3"
  },
  "language_info": {
   "codemirror_mode": {
    "name": "ipython",
    "version": 3
   },
   "file_extension": ".py",
   "mimetype": "text/x-python",
   "name": "python",
   "nbconvert_exporter": "python",
   "pygments_lexer": "ipython3",
   "version": "3.8.5"
  },
  "orig_nbformat": 4
 },
 "nbformat": 4,
 "nbformat_minor": 2
}
